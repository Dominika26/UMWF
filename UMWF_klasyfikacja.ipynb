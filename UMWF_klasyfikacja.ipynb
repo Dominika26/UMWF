{
  "nbformat": 4,
  "nbformat_minor": 0,
  "metadata": {
    "colab": {
      "provenance": [],
      "authorship_tag": "ABX9TyMmgcc7PeHp77kZqsmxDIR4",
      "include_colab_link": true
    },
    "kernelspec": {
      "name": "python3",
      "display_name": "Python 3"
    },
    "language_info": {
      "name": "python"
    }
  },
  "cells": [
    {
      "cell_type": "markdown",
      "metadata": {
        "id": "view-in-github",
        "colab_type": "text"
      },
      "source": [
        "<a href=\"https://colab.research.google.com/github/Dominika26/UMWF/blob/main/UMWF_klasyfikacja.ipynb\" target=\"_parent\"><img src=\"https://colab.research.google.com/assets/colab-badge.svg\" alt=\"Open In Colab\"/></a>"
      ]
    },
    {
      "cell_type": "code",
      "execution_count": null,
      "metadata": {
        "id": "xjymDkaqEPWk"
      },
      "outputs": [],
      "source": []
    },
    {
      "cell_type": "markdown",
      "source": [
        "ROC pokazuje nam czy nasz model jest lepszy od losowego - jeżeli jesteśmy powyżej przerywanej linii, to nasz model jest lepszy niż losowy, czyli jest sens z niego korzystać"
      ],
      "metadata": {
        "id": "463PF9RMFu0Z"
      }
    }
  ]
}